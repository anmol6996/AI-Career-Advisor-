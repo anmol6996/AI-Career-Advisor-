{
  "cells": [
    {
      "cell_type": "markdown",
      "metadata": {
        "id": "view-in-github",
        "colab_type": "text"
      },
      "source": [
        "<a href=\"https://colab.research.google.com/github/anmol6996/AI-Career-Advisor-/blob/main/AI_Career_Advisor.ipynb\" target=\"_parent\"><img src=\"https://colab.research.google.com/assets/colab-badge.svg\" alt=\"Open In Colab\"/></a>"
      ]
    },
    {
      "cell_type": "markdown",
      "metadata": {
        "id": "0MYEMVVXlYdP"
      },
      "source": [
        "# AI Career Advisor\n",
        "This Colab notebook takes your background and interests as input and outputs AI/ML career advice based on Gemini logic."
      ]
    },
    {
      "cell_type": "code",
      "metadata": {
        "id": "tMfJ0UlFlYdS"
      },
      "source": [
        "# Step 1: Take user input\n",
        "user_input = input(\"Enter your background, interests, and goals: \")\n",
        "\n",
        "# Step 2: Gemini AI logic simulation (replace with real Gemini API or logic)\n",
        "def ai_advisor(user_input):\n",
        "    advice = \"Suggested AI roadmap based on your input:\\n\"\n",
        "    user_input_lower = user_input.lower()\n",
        "\n",
        "    if \"jee\" in user_input_lower:\n",
        "        advice += \"1. Strengthen your Math and Physics fundamentals.\\n\"\n",
        "        advice += \"2. Practice problem-solving daily.\\n\"\n",
        "    if \"python\" in user_input_lower or \"programming\" in user_input_lower:\n",
        "        advice += \"3. Learn Python programming thoroughly.\\n\"\n",
        "    if \"ai\" in user_input_lower or \"machine learning\" in user_input_lower:\n",
        "        advice += \"4. Study Machine Learning concepts: linear algebra, statistics, probability.\\n\"\n",
        "        advice += \"5. Explore TensorFlow and PyTorch frameworks.\\n\"\n",
        "    if \"goal\" in user_input_lower or \"aim\" in user_input_lower:\n",
        "        advice += \"6. Set clear milestones and build portfolio projects.\\n\"\n",
        "\n",
        "    if advice == \"Suggested AI roadmap based on your input:\\n\":\n",
        "        advice += \"1. Learn Python thoroughly.\\n2. Focus on Machine Learning fundamentals.\\n3. Build projects.\\n\"\n",
        "\n",
        "    return advice\n",
        "\n",
        "# Step 3: Generate advice\n",
        "print(ai_advisor(user_input))\n"
      ],
      "execution_count": null,
      "outputs": []
    }
  ],
  "metadata": {
    "colab": {
      "name": "AI_Career_Advisor.ipynb",
      "provenance": [],
      "include_colab_link": true
    },
    "kernelspec": {
      "name": "python3",
      "display_name": "Python 3"
    },
    "language_info": {
      "name": "python",
      "version": "3.10"
    }
  },
  "nbformat": 4,
  "nbformat_minor": 0
}