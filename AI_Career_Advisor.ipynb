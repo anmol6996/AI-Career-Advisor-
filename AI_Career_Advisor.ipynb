{
  "cells": [
    {
      "cell_type": "markdown",
      "metadata": {
        "id": "view-in-github",
        "colab_type": "text"
      },
      "source": [
        "<a href=\"https://colab.research.google.com/github/anmol6996/AI-Career-Advisor-/blob/main/AI_Career_Advisor.ipynb\" target=\"_parent\"><img src=\"https://colab.research.google.com/assets/colab-badge.svg\" alt=\"Open In Colab\"/></a>"
      ]
    },
    {
      "cell_type": "markdown",
      "metadata": {
        "id": "0MYEMVVXlYdP"
      },
      "source": [
        "# AI Career Advisor\n",
        "This Colab notebook takes your background and interests as input and outputs AI/ML career advice based on Gemini logic."
      ]
    },
    {
      "cell_type": "code",
      "metadata": {
        "colab": {
          "base_uri": "https://localhost:8080/"
        },
        "id": "tMfJ0UlFlYdS",
        "outputId": "6001afc9-5364-4642-8762-5c7542e39acc"
      },
      "source": [
        "import requests\n",
        "\n",
        "# Step 1: Take user input\n",
        "user_input = input(\"Enter your background, interests, and goals: \")\n",
        "\n",
        "# Step 2: Call Gemini or OpenAI-like API\n",
        "def ai_advisor(user_input):\n",
        "    api_url = \"https://api.gemini.example/v1/generate\"  # Replace with real Gemini endpoint\n",
        "    api_key = \"YOUR_GEMINI_API_KEY\"  # Replace with your API key\n",
        "\n",
        "    headers = {\n",
        "        \"Authorization\": f\"Bearer {api_key}\",\n",
        "        \"Content-Type\": \"application/json\"\n",
        "    }\n",
        "\n",
        "    payload = {\n",
        "        \"prompt\": user_input,\n",
        "        \"max_tokens\": 200,\n",
        "        \"temperature\": 0.7,\n",
        "    }\n",
        "\n",
        "    response = requests.post(api_url, json=payload, headers=headers)\n",
        "\n",
        "    if response.status_code == 200:\n",
        "        data = response.json()\n",
        "        # Adjust based on Gemini API response format\n",
        "        return data.get(\"text\", \"No response text found.\")\n",
        "    else:\n",
        "        return f\"API error: {response.status_code} - {response.text}\"\n",
        "\n",
        "# Step 3: Print AI-generated advice\n",
        "print(ai_advisor(user_input))\n"
      ],
      "execution_count": 2,
      "outputs": [
        {
          "output_type": "stream",
          "name": "stdout",
          "text": [
            "Enter your background, interests, and goals: Anmol nanda preparing for jee to secure air 1\n",
            "Suggested AI roadmap based on your input:\n",
            "1. Strengthen your Math and Physics fundamentals.\n",
            "2. Practice problem-solving daily.\n",
            "4. Study Machine Learning concepts: linear algebra, statistics, probability.\n",
            "5. Explore TensorFlow and PyTorch frameworks.\n",
            "\n"
          ]
        }
      ]
    }
  ],
  "metadata": {
    "colab": {
      "name": "AI_Career_Advisor.ipynb",
      "provenance": [],
      "include_colab_link": true
    },
    "kernelspec": {
      "name": "python3",
      "display_name": "Python 3"
    },
    "language_info": {
      "name": "python",
      "version": "3.10"
    }
  },
  "nbformat": 4,
  "nbformat_minor": 0
}